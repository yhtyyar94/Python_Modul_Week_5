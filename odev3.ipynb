{
 "cells": [
  {
   "cell_type": "code",
   "execution_count": null,
   "metadata": {},
   "outputs": [],
   "source": [
    "class Shape:\n",
    "    def __init__(self, width, height):\n",
    "        self.width = width\n",
    "        self.height = height\n",
    "\n",
    "class Rectangle(Shape):\n",
    "    def calculate_area(self):\n",
    "        return self.width * self.height\n",
    "\n",
    "class Square(Shape):\n",
    "    def calculate_area(self):\n",
    "        return self.width * self.width\n",
    "\n",
    "rect = Rectangle(5, 7)\n",
    "square = Square(4, 4)\n",
    "\n",
    "print(\"Dikdörtgenin Alanı:\", rect.calculate_area())\n",
    "print(\"Karenin Alanı:\", square.calculate_area())\n"
   ]
  }
 ],
 "metadata": {
  "language_info": {
   "name": "python"
  }
 },
 "nbformat": 4,
 "nbformat_minor": 2
}
