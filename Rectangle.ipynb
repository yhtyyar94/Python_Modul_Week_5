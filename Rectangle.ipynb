class Rectangle:
    def __init__(self, width, height):
        self.width = width
        self.height = height

    def area(self):
        return self.width * self.height

    def perimeter(self):
        return 2 * (self.width + self.height)

# Dikdörtgen örneği
rect = Rectangle(5, 7)
print("Dikdörtgenin Alanı:", rect.area())
print("Dikdörtgenin Çevresi:", rect.perimeter())
