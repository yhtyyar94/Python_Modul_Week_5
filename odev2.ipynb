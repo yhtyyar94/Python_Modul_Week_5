{
 "cells": [
  {
   "cell_type": "code",
   "execution_count": null,
   "metadata": {},
   "outputs": [],
   "source": [
    "class School:\n",
    "    def __init__(self, name, foundation_year):\n",
    "        self.name = name\n",
    "        self.foundation_year = foundation_year\n",
    "        self.students = []\n",
    "        self.teachers = {}\n",
    "\n",
    "    def add_new_student(self, student_name, class_name):\n",
    "        self.students.append({\"name\": student_name, \"class\": class_name})\n",
    "\n",
    "    def add_new_teacher(self, teacher_name, branch):\n",
    "        self.teachers[teacher_name] = branch\n",
    "\n",
    "    def view_student_list(self):\n",
    "        for student in self.students:\n",
    "            print(f\"Öğrenci: {student['name']}, Sınıf: {student['class']}\")\n",
    "\n",
    "    def view_teacher_list(self):\n",
    "        for teacher, branch in self.teachers.items():\n",
    "            print(f\"Öğretmen: {teacher}, Branş: {branch}\")\n",
    "\n",
    "school = School(\"ABC Okulu\", 1990)\n",
    "school.add_new_student(\"Ali\", \"10A\")\n",
    "school.add_new_teacher(\"Ahmet\", \"Matematik\")\n",
    "school.view_student_list()\n",
    "school.view_teacher_list()\n"
   ]
  }
 ],
 "metadata": {
  "language_info": {
   "name": "python"
  }
 },
 "nbformat": 4,
 "nbformat_minor": 2
}
