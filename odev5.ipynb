{
 "cells": [
  {
   "cell_type": "code",
   "execution_count": 1,
   "metadata": {},
   "outputs": [
    {
     "name": "stdout",
     "output_type": "stream",
     "text": [
      "Müşteri: Ali Yılmaz, TC: 12345678901, Telefon: 0555 555 5555\n",
      "500 TL yatırıldı. Yeni Bakiye: 1500 TL\n",
      "200 TL çekildi. Yeni Bakiye: 1300 TL\n",
      "Hesap Bakiyesi: 1300 TL\n"
     ]
    }
   ],
   "source": [
    "class Customer:\n",
    "    def __init__(self, name, surname, tc_identification, phone):\n",
    "        self.name = name\n",
    "        self.surname = surname\n",
    "        self.tc_identification = tc_identification\n",
    "        self.phone = phone\n",
    "\n",
    "    def display_information(self):\n",
    "        print(f\"Müşteri: {self.name} {self.surname}, TC: {self.tc_identification}, Telefon: {self.phone}\")\n",
    "\n",
    "class Account(Customer):\n",
    "    def __init__(self, customer, account_number, balance=0):\n",
    "        super().__init__(customer.name, customer.surname, customer.tc_identification, customer.phone)\n",
    "        self.account_number = account_number\n",
    "        self.balance = balance\n",
    "\n",
    "    def deposit(self, amount):\n",
    "        self.balance += amount\n",
    "        print(f\"{amount} TL yatırıldı. Yeni Bakiye: {self.balance} TL\")\n",
    "\n",
    "    def money_check(self, amount):\n",
    "        if self.balance >= amount:\n",
    "            self.balance -= amount\n",
    "            print(f\"{amount} TL çekildi. Yeni Bakiye: {self.balance} TL\")\n",
    "        else:\n",
    "            print(\"Yetersiz bakiye!\")\n",
    "\n",
    "    def display_balance(self):\n",
    "        print(f\"Hesap Bakiyesi: {self.balance} TL\")\n",
    "\n",
    "# Müşteri ve Hesap örnekleri\n",
    "customer = Customer(\"Ali\", \"Yılmaz\", \"12345678901\", \"0555 555 5555\")\n",
    "account = Account(customer, \"1234567890\", 1000)\n",
    "\n",
    "customer.display_information()\n",
    "account.deposit(500)\n",
    "account.money_check(200)\n",
    "account.display_balance()\n"
   ]
  }
 ],
 "metadata": {
  "kernelspec": {
   "display_name": "Python 3",
   "language": "python",
   "name": "python3"
  },
  "language_info": {
   "codemirror_mode": {
    "name": "ipython",
    "version": 3
   },
   "file_extension": ".py",
   "mimetype": "text/x-python",
   "name": "python",
   "nbconvert_exporter": "python",
   "pygments_lexer": "ipython3",
   "version": "3.11.4"
  }
 },
 "nbformat": 4,
 "nbformat_minor": 2
}
